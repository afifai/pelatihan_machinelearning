{
 "cells": [
  {
   "cell_type": "markdown",
   "metadata": {},
   "source": [
    "# Pengenalan Scikit-Learn: Machine Learning dengan Python\n",
    "\n",
    "Oleh Afif Akbar Iskandar\n",
    "\n",
    "Sesi ini akan membahas mengenai dasar Scikit-Learn, library populer yang mengandung koleksi dari tools untuk machine learning yang ditulis dengan Python. Selanjutnya dapat dilihat di http://scikit-learn.org."
   ]
  },
  {
   "cell_type": "markdown",
   "metadata": {},
   "source": [
    "## Outline\n",
    "\n",
    "**Tujuan Utama:** Memperkenalkan konsep dasar machine learning, dan bagaimana cara pengaplikasiannya menggunakan Python dengan library Scikit-learn.\n",
    "\n",
    "- Definisi machine learning\n",
    "- Representasi data di scikit-learn\n",
    "- Perkenalan dengan Scikit-learn API"
   ]
  },
  {
   "cell_type": "markdown",
   "metadata": {},
   "source": [
    "## Tentang Scikit-Learn\n",
    "\n",
    "[Scikit-Learn](http://github.com/scikit-learn/scikit-learn) adalah library Python yang dirancang untuk mempermudah penggunaan algoritma machine learning dalam kode Python, melalui **API ** Yang telah dikembangkan oleh ratusan kontributor dari seluruh dunia, dan digunakan di seluruh industri dan akademisi.\n",
    "\n",
    "Scikit-Learn dirancang diatas modul [NumPy (Numerical Python)](http://numpy.org) dan [SciPy (Scientific Python)](http://scipy.org) pada Python, sehingga segala perhitungan didalamnya lebih efisien. Namun, scikit-learn tidak spesifik di desain untuk data yang besar.\n",
    "\n",
    "Untuk pengenalan kali ini, akan digunakan dataset yang kecil hingga medium untuk diproses menggunakan Scikit-Learn"
   ]
  },
  {
   "cell_type": "markdown",
   "metadata": {},
   "source": [
    "## Apa itu Machine Learning?\n",
    "\n",
    "Machine Learning,  cabang dari **Artificial Intelligence** , adalah disiplin ilmu yang mencakup perancangan dan pengembangan algoritma yang memungkinkan komputer untuk mengembangkan perilaku yang didasarkan pada data empiris, seperti dari sensor data basis data. Sistem pembelajar dapat memanfaatkan contoh (data) untuk menangkap ciri yang diperlukan dari probabilitas yang mendasarinya (yang tidak diketahui).\n",
    "\n",
    "Perhatikan dua task sederhana dari pembelajaran mesin berikut.\n",
    "Yang pertama adalah **klasifikasi**: gambar ini memperlihatkan data dua dimensi, diberi warna berdasarkan kelasnya. Algoritma klasifikasi biasanya digunakan untuk mencari batas dari dua kelas tersebut."
   ]
  },
  {
   "cell_type": "code",
   "execution_count": null,
   "metadata": {},
   "outputs": [],
   "source": [
    "%matplotlib inline\n",
    "\n",
    "# set seaborn plot defaults.\n",
    "# This can be safely commented out\n",
    "import seaborn; seaborn.set()"
   ]
  },
  {
   "cell_type": "code",
   "execution_count": null,
   "metadata": {},
   "outputs": [],
   "source": [
    "# Import the example plot from the figures directory\n",
    "from fig_code import plot_sgd_separator\n",
    "plot_sgd_separator()"
   ]
  },
  {
   "cell_type": "markdown",
   "metadata": {},
   "source": [
    "Task kedua adalah **regresi** : mencari garis yang `fit` dengan data kita"
   ]
  },
  {
   "cell_type": "code",
   "execution_count": null,
   "metadata": {},
   "outputs": [],
   "source": [
    "from fig_code import plot_linear_regression\n",
    "plot_linear_regression()"
   ]
  },
  {
   "cell_type": "markdown",
   "metadata": {},
   "source": [
    "## Representasi Data pada Scikit-learn\n",
    "\n",
    "Machine Learning selalu berhubungan dengan Data, untuk itu penting untuk melakukan representasi yang tepat sebelum melakukan analisis menggunakan Machine Learning.\n",
    "\n",
    "Sebelum menggunakan Scikit-Learn untuk melakukan task Machine Learning, kita harus memastikan data kita sudah diubah kedalam bentuk matriks dimana baris menggambarkan `n_samples` dan kolom menggambarkan `n_features`"
   ]
  },
  {
   "cell_type": "markdown",
   "metadata": {},
   "source": [
    "![Data Layout](images/data-layout.png)\n",
    "\n",
    "(Gambar diambil dari [Python Data Science Handbook](https://github.com/jakevdp/PythonDataScienceHandbook))"
   ]
  },
  {
   "cell_type": "markdown",
   "metadata": {},
   "source": [
    "## Contoh Sederhana : Iris-Dataset"
   ]
  },
  {
   "cell_type": "markdown",
   "metadata": {},
   "source": [
    "Data yang digunakan pada sesi ini adalah `iris dataset` yang tersimpan pada modul Scikit-Learn, data ini mendeskripsikan 3 spesies bunga"
   ]
  },
  {
   "cell_type": "code",
   "execution_count": null,
   "metadata": {},
   "outputs": [],
   "source": [
    "from IPython.core.display import Image, display\n",
    "display(Image(filename='images/iris_setosa.jpg'))\n",
    "print(\"Iris Setosa\\n\")\n",
    "\n",
    "display(Image(filename='images/iris_versicolor.jpg'))\n",
    "print(\"Iris Versicolor\\n\")\n",
    "\n",
    "display(Image(filename='images/iris_virginica.jpg'))\n",
    "print(\"Iris Virginica\")"
   ]
  },
  {
   "cell_type": "markdown",
   "metadata": {},
   "source": [
    "### Pertanyaan Singkat:\n",
    "\n",
    "**Jika kita ingin mendesain algoritma pengenal spesies iris, bagaimana bentuk datanya?**\n",
    "\n",
    "Ingat: kita butuh array 2D `[n_samples x n_features]`.\n",
    "\n",
    "- Apa yang jadi `n_samples` nya ?\n",
    "\n",
    "- Apa yang jadi `n_features` nya ?\n",
    "\n",
    "Ingat, pada setiap data, diharuskan menggunakan jumlah fitur yang sama"
   ]
  },
  {
   "cell_type": "markdown",
   "metadata": {},
   "source": [
    "### Loading the Iris Data with Scikit-Learn\n",
    "\n",
    "Scikit-learn telah mengekstraksi data iris kedalam 4 fitur berikut:\n",
    "\n",
    "- Fitur pada Iris dataset:\n",
    "\n",
    "  1. panjang sepal dalam cm\n",
    "  2. lebar sepal dalam cm\n",
    "  3. panjang petal dalam cm\n",
    "  4. lebar petal dalam cm\n",
    "\n",
    "- Kelas target:\n",
    "\n",
    "  1. Iris Setosa\n",
    "  2. Iris Versicolour\n",
    "  3. Iris Virginica\n",
    "  "
   ]
  },
  {
   "cell_type": "markdown",
   "metadata": {},
   "source": [
    "#### Mulai Code"
   ]
  },
  {
   "cell_type": "code",
   "execution_count": null,
   "metadata": {},
   "outputs": [],
   "source": [
    "from sklearn.datasets import load_iris\n",
    "iris = load_iris()"
   ]
  },
  {
   "cell_type": "code",
   "execution_count": null,
   "metadata": {},
   "outputs": [],
   "source": [
    "iris.keys()"
   ]
  },
  {
   "cell_type": "code",
   "execution_count": null,
   "metadata": {},
   "outputs": [],
   "source": [
    "n_samples, n_features = iris.data.shape\n",
    "print((n_samples, n_features))\n",
    "print(iris.data[0])"
   ]
  },
  {
   "cell_type": "code",
   "execution_count": null,
   "metadata": {},
   "outputs": [],
   "source": [
    "print(iris.data.shape)\n",
    "print(iris.target.shape)"
   ]
  },
  {
   "cell_type": "code",
   "execution_count": null,
   "metadata": {},
   "outputs": [],
   "source": [
    "print(iris.target)"
   ]
  },
  {
   "cell_type": "code",
   "execution_count": null,
   "metadata": {},
   "outputs": [],
   "source": [
    "print(iris.target_names)"
   ]
  },
  {
   "cell_type": "markdown",
   "metadata": {},
   "source": [
    "Data ini merupakan data 4D, tetapi kita dapat menggambar data tersebut dalam 2D kedalam  scatter-plot:"
   ]
  },
  {
   "cell_type": "code",
   "execution_count": null,
   "metadata": {},
   "outputs": [],
   "source": [
    "import numpy as np\n",
    "import matplotlib.pyplot as plt\n",
    "\n",
    "x_index = 0\n",
    "y_index = 1\n",
    "\n",
    "# formatter untuk mengatur warna berbeda pada setiap kelas\n",
    "formatter = plt.FuncFormatter(lambda i, *args: iris.target_names[int(i)])\n",
    "\n",
    "plt.scatter(iris.data[:, x_index], iris.data[:, y_index],\n",
    "            c=iris.target, cmap=plt.cm.get_cmap('RdYlBu', 3))\n",
    "plt.colorbar(ticks=[0, 1, 2], format=formatter)\n",
    "plt.clim(-0.5, 2.5)\n",
    "plt.xlabel(iris.feature_names[x_index])\n",
    "plt.ylabel(iris.feature_names[y_index]);"
   ]
  },
  {
   "cell_type": "markdown",
   "metadata": {},
   "source": [
    "### Latihan singkat\n",
    "Ubahlah `x_index` dan `y_index` sehingga data menjadi terpisah secara sempurna\n",
    "\n",
    "pertanyaan : bagaimana agar representasi pada fitur tidak hilang walaupun dimensinya diturunkan ?"
   ]
  },
  {
   "cell_type": "code",
   "execution_count": null,
   "metadata": {},
   "outputs": [],
   "source": []
  }
 ],
 "metadata": {
  "kernelspec": {
   "display_name": "Python 3",
   "language": "python",
   "name": "python3"
  },
  "language_info": {
   "codemirror_mode": {
    "name": "ipython",
    "version": 3
   },
   "file_extension": ".py",
   "mimetype": "text/x-python",
   "name": "python",
   "nbconvert_exporter": "python",
   "pygments_lexer": "ipython3",
   "version": "3.8.3"
  }
 },
 "nbformat": 4,
 "nbformat_minor": 2
}
