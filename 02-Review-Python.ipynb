{
 "cells": [
  {
   "cell_type": "markdown",
   "metadata": {},
   "source": [
    "# Review Singkat Python"
   ]
  },
  {
   "cell_type": "markdown",
   "metadata": {},
   "source": [
    "Oleh Afif Akbar Iskandar"
   ]
  },
  {
   "cell_type": "markdown",
   "metadata": {},
   "source": [
    "## Operasi Aritmatika Dasar"
   ]
  },
  {
   "cell_type": "markdown",
   "metadata": {},
   "source": [
    "Berikut merupakan operasi aritmatika dasar pada Python:"
   ]
  },
  {
   "cell_type": "code",
   "execution_count": null,
   "metadata": {},
   "outputs": [],
   "source": [
    "5+2 #penjumlahan"
   ]
  },
  {
   "cell_type": "code",
   "execution_count": null,
   "metadata": {},
   "outputs": [],
   "source": [
    "5-2 #pengurangan"
   ]
  },
  {
   "cell_type": "code",
   "execution_count": null,
   "metadata": {},
   "outputs": [],
   "source": [
    "5*2 #perkalian"
   ]
  },
  {
   "cell_type": "code",
   "execution_count": null,
   "metadata": {},
   "outputs": [],
   "source": [
    "5/2 #pembagian"
   ]
  },
  {
   "cell_type": "code",
   "execution_count": null,
   "metadata": {},
   "outputs": [],
   "source": [
    "5**2 #pemangkatan"
   ]
  },
  {
   "cell_type": "markdown",
   "metadata": {},
   "source": [
    "5%2 #Sisa hasil bagi (modulus)"
   ]
  },
  {
   "cell_type": "markdown",
   "metadata": {},
   "source": [
    "## String"
   ]
  },
  {
   "cell_type": "markdown",
   "metadata": {},
   "source": [
    "String adalah rangkaian karakter. Anda bisa menuliskan string literal dengan beberapa cara:"
   ]
  },
  {
   "cell_type": "code",
   "execution_count": null,
   "metadata": {},
   "outputs": [],
   "source": [
    "'Ini adalah sebuah string' #single quote"
   ]
  },
  {
   "cell_type": "code",
   "execution_count": null,
   "metadata": {},
   "outputs": [],
   "source": [
    "\"Ini adalah sebuah string\" #double quote"
   ]
  },
  {
   "cell_type": "code",
   "execution_count": null,
   "metadata": {},
   "outputs": [],
   "source": [
    "\"\"\"Ini adalah sebuah string\n",
    "yang dapat ditulis dalam multilines\"\"\" #triple quote untuk multilines string"
   ]
  },
  {
   "cell_type": "markdown",
   "metadata": {},
   "source": [
    "Menulis kutip didalam string:"
   ]
  },
  {
   "cell_type": "code",
   "execution_count": null,
   "metadata": {},
   "outputs": [],
   "source": [
    "\"Ini adalah string yang mengandung 'kutip'\" #dengan menggunakan jenis tanda kutip berbeda"
   ]
  },
  {
   "cell_type": "code",
   "execution_count": null,
   "metadata": {},
   "outputs": [],
   "source": [
    "'Ini adalah string yang mengandung \\'kutip\\'' #dengan menggunakan backslash"
   ]
  },
  {
   "cell_type": "markdown",
   "metadata": {},
   "source": [
    "String bersifat immutable yang artinya setelah string dibuat, string tersebut tidak dapat diubah kembali"
   ]
  },
  {
   "cell_type": "markdown",
   "metadata": {},
   "source": [
    "## Angka"
   ]
  },
  {
   "cell_type": "markdown",
   "metadata": {},
   "source": [
    "Di Python bilangan dibagi menjadi dua tipe utama - integer (bulat) dan float (pecahan)"
   ]
  },
  {
   "cell_type": "code",
   "execution_count": null,
   "metadata": {},
   "outputs": [],
   "source": [
    "46 #integer"
   ]
  },
  {
   "cell_type": "code",
   "execution_count": null,
   "metadata": {},
   "outputs": [],
   "source": [
    "46.0 #float"
   ]
  },
  {
   "cell_type": "code",
   "execution_count": null,
   "metadata": {},
   "outputs": [],
   "source": [
    "52.3e-4 #contoh float dengan notasi e"
   ]
  },
  {
   "cell_type": "markdown",
   "metadata": {},
   "source": [
    "Notasi e mengindikasikan pangkat 10. Untuk kasus ini 52.3e-4 berarti 52.3 * 10 ^(-4)."
   ]
  },
  {
   "cell_type": "markdown",
   "metadata": {},
   "source": [
    "## Format String"
   ]
  },
  {
   "cell_type": "markdown",
   "metadata": {},
   "source": [
    "Terkadang kita ingin membuat string dari informasi lain, untuk hal ini kita dapat menggunakan format string."
   ]
  },
  {
   "cell_type": "code",
   "execution_count": null,
   "metadata": {},
   "outputs": [],
   "source": [
    "\"%s pergi ke %s\" %('Ibu','Pasar')"
   ]
  },
  {
   "cell_type": "code",
   "execution_count": null,
   "metadata": {},
   "outputs": [],
   "source": [
    "\"{} pergi ke {}\".format('Ibu','Pasar')"
   ]
  },
  {
   "cell_type": "code",
   "execution_count": null,
   "metadata": {},
   "outputs": [],
   "source": [
    "\"Total harga yang harus dibayar adalah : Rp. %s\" %(50000)"
   ]
  },
  {
   "cell_type": "code",
   "execution_count": null,
   "metadata": {},
   "outputs": [],
   "source": [
    "\"Total harga yang harus dibayar adalah : Rp. {}\".format(50000)"
   ]
  },
  {
   "cell_type": "markdown",
   "metadata": {},
   "source": [
    "## Variabel"
   ]
  },
  {
   "cell_type": "markdown",
   "metadata": {},
   "source": [
    "Hanya menggunakan konstanta literal saja cukup membosankan, kita membutuhkan cara untuk menyimpan dan memanipulasi informasi. Untuk hal ini kita bisa menggunakan variabel. Seperti namanya, variabel dapat diisi dengan bermacam-macam nilai, anda dapat menyimpan apapun menggunakan variabel. Variabel adalah sebagian dari memori komputer yang digunakan untuk menyimpan informasi. Berbeda dengan konstanta literal, anda membutuhkan cara untuk mengakses variabel ini, oleh karena itu kita memberi nama kepada variabel."
   ]
  },
  {
   "cell_type": "code",
   "execution_count": null,
   "metadata": {},
   "outputs": [],
   "source": [
    "a = 2\n",
    "print(a)"
   ]
  },
  {
   "cell_type": "code",
   "execution_count": null,
   "metadata": {},
   "outputs": [],
   "source": [
    "b = 7\n",
    "print(a**b) #operasi aritmatika dan cetak ke layar"
   ]
  },
  {
   "cell_type": "code",
   "execution_count": null,
   "metadata": {},
   "outputs": [],
   "source": [
    "teks = \"Saya pergi ke pasar bersama {}\"\n",
    "print(teks.format(\"Ibu\"))"
   ]
  },
  {
   "cell_type": "code",
   "execution_count": null,
   "metadata": {},
   "outputs": [],
   "source": [
    "nama = input(\"siapa nama anda ?\") #meminta input dari user"
   ]
  },
  {
   "cell_type": "code",
   "execution_count": null,
   "metadata": {},
   "outputs": [],
   "source": [
    "print(nama)"
   ]
  },
  {
   "cell_type": "markdown",
   "metadata": {},
   "source": [
    "## Tipe Data"
   ]
  },
  {
   "cell_type": "markdown",
   "metadata": {},
   "source": [
    "Variabel dapat menyimpan nilai dengan berbagi tipe disebut dengan tipe data. Bilangan dan string adalah tipe dasar, yang sudah dibahas sebelumnya. Gunakan sintaks `type` untuk melihat tipe data pada variabel"
   ]
  },
  {
   "cell_type": "code",
   "execution_count": null,
   "metadata": {},
   "outputs": [],
   "source": [
    "a = 5\n",
    "type(a)"
   ]
  },
  {
   "cell_type": "code",
   "execution_count": null,
   "metadata": {},
   "outputs": [],
   "source": [
    "b = 5.0\n",
    "type(b)"
   ]
  },
  {
   "cell_type": "code",
   "execution_count": null,
   "metadata": {},
   "outputs": [],
   "source": [
    "c = \"afif\"\n",
    "type(c)"
   ]
  },
  {
   "cell_type": "code",
   "execution_count": null,
   "metadata": {},
   "outputs": [],
   "source": [
    "d = input(\"Input dari user : \")\n",
    "type(d)"
   ]
  },
  {
   "cell_type": "markdown",
   "metadata": {},
   "source": [
    "Semua input dari user dianggap `string` pada Python 3, untuk mengubahnya, gunakan fungsi `eval`"
   ]
  },
  {
   "cell_type": "code",
   "execution_count": null,
   "metadata": {},
   "outputs": [],
   "source": [
    "contoh = \"10\"\n",
    "type(contoh)"
   ]
  },
  {
   "cell_type": "code",
   "execution_count": null,
   "metadata": {},
   "outputs": [],
   "source": [
    "contoh = eval(contoh)\n",
    "type(contoh)"
   ]
  },
  {
   "cell_type": "markdown",
   "metadata": {},
   "source": [
    "Contoh script sederhana pemanfaatan fungsi-fungsi yang telah dipelajari"
   ]
  },
  {
   "cell_type": "code",
   "execution_count": null,
   "metadata": {},
   "outputs": [],
   "source": [
    "a = 15\n",
    "b = 7\n",
    "c = eval(input(\"Masukkan angka lainnya : \"))\n",
    "nama = input(\"Nama Anda : \")\n",
    "perhitungan = (a+b)**c\n",
    "print(\"Hasil perhitungan anda adalah : {}\".format(perhitungan))\n",
    "print(\"Nama anda adalah %s\" %(nama))"
   ]
  },
  {
   "cell_type": "markdown",
   "metadata": {},
   "source": [
    "## Fungsi"
   ]
  },
  {
   "cell_type": "markdown",
   "metadata": {},
   "source": [
    "Fungsi adalah bagian dari program yang dapat digunakan ulang. Hal ini bisa dicapai dengan memberi nama pada blok statemen, kemudian nama ini dapat dipanggil di manapun dalam program. Kita telah menggunakan beberapa fungsi builtin seperti range.\n",
    "\n",
    "Fungsi dalam Python didefinisikan menggunakan kata kunci `def`. Setelah `def` ada nama pengenal fungsi diikut dengan parameter yang diapit oleh tanda kurung dan diakhir dingan tanda titik dua :. Baris berikutnya berupa blok fungsi yang akan dijalankan jika fungsi dipanggil."
   ]
  },
  {
   "cell_type": "code",
   "execution_count": null,
   "metadata": {},
   "outputs": [],
   "source": [
    "def halo(): #fungsi tanpa parameter\n",
    "    print(\"Halo dunia!\")"
   ]
  },
  {
   "cell_type": "code",
   "execution_count": null,
   "metadata": {},
   "outputs": [],
   "source": [
    "halo()"
   ]
  },
  {
   "cell_type": "code",
   "execution_count": null,
   "metadata": {},
   "outputs": [],
   "source": [
    "def halo(nama): #fungsi dengan parameter\n",
    "    print(\"Halo, nama saya {}!\".format(nama))"
   ]
  },
  {
   "cell_type": "code",
   "execution_count": null,
   "metadata": {},
   "outputs": [],
   "source": [
    "halo(\"Afif\")"
   ]
  },
  {
   "cell_type": "code",
   "execution_count": null,
   "metadata": {},
   "outputs": [],
   "source": [
    "def pangkat(a,b):\n",
    "    print(\"Hasil pangkatnya adalah {}\".format(a**b))"
   ]
  },
  {
   "cell_type": "code",
   "execution_count": null,
   "metadata": {},
   "outputs": [],
   "source": [
    "pangkat(5,2)"
   ]
  },
  {
   "cell_type": "markdown",
   "metadata": {},
   "source": [
    "Statemen return digunakan untuk keluar dari fungsi. Kita juga dapat menspesifikasikan nilai kembalian. Seperti pada latihan diatas melainkan mencetak hasil jumlah dalam blok fungsi, fungsi total mengembalikan nilai jumlah ke pemanggil."
   ]
  },
  {
   "cell_type": "code",
   "execution_count": null,
   "metadata": {},
   "outputs": [],
   "source": [
    "def pangkat_return(a,b):\n",
    "    return 5**2"
   ]
  },
  {
   "cell_type": "code",
   "execution_count": null,
   "metadata": {},
   "outputs": [],
   "source": [
    "a = pangkat_return(5,2)\n",
    "print(a)"
   ]
  },
  {
   "cell_type": "markdown",
   "metadata": {},
   "source": [
    "## Kondisional"
   ]
  },
  {
   "cell_type": "markdown",
   "metadata": {},
   "source": [
    "Kondisional di Python menggunakan operator seperti ==, !=, <, <=, >, >=, not, in. Operator tersebut merupakan operator logika yang akan digunakan programmer Python untuk membuat sebuah alur logika.\n",
    "\n",
    "operan adalah sebuah nilai yang dibandingkan oleh operator logika. Untuk perbandingan logika minimal membutuhkan dua operan. Operan sebelah kiri akan dibandingkan dengan operan sebelah kanan. Sebagai contoh mari kita coba kondisional if di Python:"
   ]
  },
  {
   "cell_type": "code",
   "execution_count": null,
   "metadata": {},
   "outputs": [],
   "source": [
    "a = eval(input(\"Masukkan angka pertama : \"))\n",
    "b = eval(input(\"Masukkan angka kedua : \"))\n",
    "if a<b:\n",
    "    print(\"angka pertama lebih kecil dari angka kedua\")\n"
   ]
  },
  {
   "cell_type": "markdown",
   "metadata": {},
   "source": [
    "### gunakan else untuk menambah kasus diatas"
   ]
  },
  {
   "cell_type": "code",
   "execution_count": null,
   "metadata": {},
   "outputs": [],
   "source": [
    "a = eval(input(\"Masukkan angka pertama : \"))\n",
    "b = eval(input(\"Masukkan angka kedua : \"))\n",
    "if a<b:\n",
    "    print(\"angka pertama lebih kecil dari angka kedua\")\n",
    "else:\n",
    "    print(\"angka pertama lebih besar dari angka kedua\")"
   ]
  },
  {
   "cell_type": "markdown",
   "metadata": {},
   "source": [
    "### gunakan else if untuk membuat kasus diatas lebih akurat"
   ]
  },
  {
   "cell_type": "code",
   "execution_count": null,
   "metadata": {},
   "outputs": [],
   "source": [
    "a = eval(input(\"Masukkan angka pertama : \"))\n",
    "b = eval(input(\"Masukkan angka kedua : \"))\n",
    "if a<b:\n",
    "    print(\"angka pertama lebih kecil dari angka kedua\")\n",
    "elif a==b:\n",
    "    print(\"angka pertama sama dengan angka kedua\")\n",
    "else:\n",
    "    print(\"angka pertama lebih besar dari angka kedua\")"
   ]
  },
  {
   "cell_type": "markdown",
   "metadata": {},
   "source": [
    "## List, Tuple dan Set"
   ]
  },
  {
   "cell_type": "markdown",
   "metadata": {},
   "source": [
    "List, Tuple dan Set adalah tipe data majemuk yang ada pada python yang memiliki fungsi masing-masing\n",
    "\n",
    "- **List** bersifat mutable (dapat dimodifikasi setelah dibuat)\n",
    "- **Tuple** bersifat immutable (tidak dapat dimodifikasi setelah dibuat)\n",
    "- **set** elemen didalamnya harus unik. (digunakan untuk operasi himpunan)"
   ]
  },
  {
   "cell_type": "code",
   "execution_count": null,
   "metadata": {},
   "outputs": [],
   "source": [
    "list1  = [1,2,3,4,5,\"afif\",3.14]\n",
    "type(list1)"
   ]
  },
  {
   "cell_type": "code",
   "execution_count": null,
   "metadata": {},
   "outputs": [],
   "source": [
    "tuple1 = (1,2,3,4,5,\"afif\",3.14)\n",
    "type(tuple1)"
   ]
  },
  {
   "cell_type": "code",
   "execution_count": null,
   "metadata": {},
   "outputs": [],
   "source": [
    "set1 = {1,2,3,2}\n",
    "type(set1)"
   ]
  },
  {
   "cell_type": "code",
   "execution_count": null,
   "metadata": {},
   "outputs": [],
   "source": [
    "list1.append(30)\n",
    "print(list1)\n",
    "list1.insert(0,\"insert diawal\")\n",
    "print(list1)"
   ]
  },
  {
   "cell_type": "code",
   "execution_count": null,
   "metadata": {},
   "outputs": [],
   "source": [
    "dir(list1)"
   ]
  },
  {
   "cell_type": "code",
   "execution_count": null,
   "metadata": {},
   "outputs": [],
   "source": [
    "dir(tuple1)"
   ]
  },
  {
   "cell_type": "markdown",
   "metadata": {},
   "source": [
    "## Fungsi range()"
   ]
  },
  {
   "cell_type": "markdown",
   "metadata": {},
   "source": [
    "Ketika menggunakan pengulangan for nanti, kita akan banyak menggunakan `range()`. Fungsi ini digunakan untuk menghasilkan deretan angka dengan interval dan loncatan tertentu. Misal dengan range(), Anda dapat membuat deret angka dari 1, 2, 3, 4, 5, 6, 7, 8, 9, 10 atau 1, 3, 5, 7, 8, 9, 11, 13, 15, 17. Tergantung kebutuhan Anda, membuat deret angka dengan `range()` dapat dilakukan dengan melewatkan tiga parameter yaitu nilai awal (start), nilai akhir (stop), dan langkah (step). Deret yang dihasilkan dengan `range()` akan disimpan dalam list."
   ]
  },
  {
   "cell_type": "code",
   "execution_count": null,
   "metadata": {},
   "outputs": [],
   "source": [
    "def print_list(a):\n",
    "    print(list(a))"
   ]
  },
  {
   "cell_type": "markdown",
   "metadata": {},
   "source": [
    "kasus - 1 : jika step tidak disertakan maka step akan diisi 1 secara default"
   ]
  },
  {
   "cell_type": "code",
   "execution_count": null,
   "metadata": {},
   "outputs": [],
   "source": [
    "print_list(range(1, 10))"
   ]
  },
  {
   "cell_type": "markdown",
   "metadata": {},
   "source": [
    "kasus - 2 : jika step disertakan maka step akan sesuai dengan angka yang diisikan"
   ]
  },
  {
   "cell_type": "code",
   "execution_count": null,
   "metadata": {},
   "outputs": [],
   "source": [
    "print_list(range(1, 10, 2))\n",
    "print_list(range(1, 10, 3))\n",
    "print_list(range(1, 10, 4))\n",
    "print_list(range(1, 10, 5))"
   ]
  },
  {
   "cell_type": "markdown",
   "metadata": {},
   "source": [
    "kasus - 3 : jika step melebihi stop maka list hanya akan berisi start"
   ]
  },
  {
   "cell_type": "code",
   "execution_count": null,
   "metadata": {},
   "outputs": [],
   "source": [
    "print_list(range(1, 10, 11))"
   ]
  },
  {
   "cell_type": "markdown",
   "metadata": {},
   "source": [
    "kasus - 4 : jika start lebih besar nilainya daripada stop maka list akan kosong"
   ]
  },
  {
   "cell_type": "code",
   "execution_count": null,
   "metadata": {},
   "outputs": [],
   "source": [
    "print_list(range(10, 1))"
   ]
  },
  {
   "cell_type": "markdown",
   "metadata": {},
   "source": [
    "kasus - 5 : jika start lebih besar nilainya daripada stop dan jika step melebihi stop maka list akan kosong"
   ]
  },
  {
   "cell_type": "code",
   "execution_count": null,
   "metadata": {},
   "outputs": [],
   "source": [
    "print_list(range(10, 1, 2))\n",
    "print_list(range(10, 1, 11))"
   ]
  },
  {
   "cell_type": "markdown",
   "metadata": {},
   "source": [
    "kasus - 6 : jika start lebih besar daripada stop dan step bernilai minus dan jika start dikurangi step menghasilkan angka positif maka list akan berisi deret angka menurun"
   ]
  },
  {
   "cell_type": "code",
   "execution_count": null,
   "metadata": {},
   "outputs": [],
   "source": [
    "print_list(range(10, 1, -1))\n"
   ]
  },
  {
   "cell_type": "markdown",
   "metadata": {},
   "source": [
    "# Pengulangan"
   ]
  },
  {
   "cell_type": "markdown",
   "metadata": {},
   "source": [
    "Pengulangan atau biasa disebut looping adalah sebuah proses dimana kita mendefinisikan proses yang berulang tanpa menyalin ulang bagian kode program yang kita tulis. Misal untuk mencetak kalimat \"Hello World\" sebanyak lima kali, kita tidak perlu menyalin perintah print(\"Hello World\") sebanyak lima kali. Cukup dengan menggunakan for dan hasil yang akan diharapkan akan muncul."
   ]
  },
  {
   "cell_type": "code",
   "execution_count": null,
   "metadata": {},
   "outputs": [],
   "source": [
    "for i in [1,2,3,4,5]:\n",
    "    print(\"Pengulangan ke - \",i)"
   ]
  },
  {
   "cell_type": "code",
   "execution_count": null,
   "metadata": {},
   "outputs": [],
   "source": [
    "for i in [\"Rawon\", \"Nasi Kuning\", \"Soto Madura\", \"Kupat Tahu\", \"Kerak Telor\", \"Rendang Batoko\", \"Pempek Selam\", \"Ayam Betutu\"]:\n",
    "    print (i, \"adalah masakan khas nusantara ...\")"
   ]
  },
  {
   "cell_type": "code",
   "execution_count": null,
   "metadata": {},
   "outputs": [],
   "source": [
    "for i in range(1,10):\n",
    "    print(\"Pengulangan ke- \",i)"
   ]
  },
  {
   "cell_type": "markdown",
   "metadata": {},
   "source": [
    "Berbeda dengan `for` yang membutuhkan `list` untuk menjadi pemacu iterasi di pengulangan `for`. Dalam menggunakan pengulangan `while`, cukup kondisi terpenuhi dengan **True**. Selama **True** maka kondisi akan terus dijalankan hingga dihentikan paksa atau mencapai kondisi tertentu. Pengulangan **while** akan berhenti jika kondisi menjadi **False**"
   ]
  },
  {
   "cell_type": "code",
   "execution_count": null,
   "metadata": {},
   "outputs": [],
   "source": [
    "angka =  0\n",
    "while (angka < 10):\n",
    "    print (\"Aku sudah berjalan sebanyak\", angka, \"langkah \")\n",
    "    angka += 1"
   ]
  },
  {
   "cell_type": "code",
   "execution_count": null,
   "metadata": {},
   "outputs": [],
   "source": [
    "terus_tanya = True\n",
    "while terus_tanya :\n",
    "    temp = input('masukkan angka kurang dari 10!! : ')\n",
    "    angka = int(temp)\n",
    "    if angka < 10:\n",
    "        terus_tanya = False\n",
    "    else:\n",
    "        terus_tanya = True"
   ]
  }
 ],
 "metadata": {
  "kernelspec": {
   "display_name": "Python 3",
   "language": "python",
   "name": "python3"
  },
  "language_info": {
   "codemirror_mode": {
    "name": "ipython",
    "version": 3
   },
   "file_extension": ".py",
   "mimetype": "text/x-python",
   "name": "python",
   "nbconvert_exporter": "python",
   "pygments_lexer": "ipython3",
   "version": "3.8.3"
  }
 },
 "nbformat": 4,
 "nbformat_minor": 2
}
