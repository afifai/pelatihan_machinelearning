{
 "cells": [
  {
   "cell_type": "markdown",
   "metadata": {
    "slideshow": {
     "slide_type": "slide"
    }
   },
   "source": [
    "# Pengenalan Machine Learning menggunakan Python"
   ]
  },
  {
   "cell_type": "markdown",
   "metadata": {},
   "source": [
    "Oleh Afif Akbar Iskandar"
   ]
  },
  {
   "cell_type": "markdown",
   "metadata": {
    "slideshow": {
     "slide_type": "slide"
    }
   },
   "source": [
    "## Tujuan dari Tutorial Ini"
   ]
  },
  {
   "cell_type": "markdown",
   "metadata": {
    "slideshow": {
     "slide_type": "subslide"
    }
   },
   "source": [
    "- **Review singkat mengenai Python**.\n",
    "- **Memperkenalkan Pandas**.\n",
    "- **Memperkenalkan dasar-dasar Machine Learning**\n",
    "- **Memperkenalkan sintaks Scikit-Learn**"
   ]
  },
  {
   "cell_type": "markdown",
   "metadata": {
    "slideshow": {
     "slide_type": "slide"
    }
   },
   "source": [
    "## Agenda tutorial hari ini:"
   ]
  },
  {
   "cell_type": "markdown",
   "metadata": {
    "slideshow": {
     "slide_type": "subslide"
    }
   },
   "source": [
    "**Pendahuluan & instalasi tools yang akan digunakan** \n",
    "* Memastikan semua tools yang digunakan sudah terinstall \n",
    "\n",
    "**Review singkat mengenai Python dan Pengenalan Pandas** \n",
    "* Sintaks dasar\n",
    "* Fungsi\n",
    "* Conditional\n",
    "* Looping\n",
    "* Pandas\n",
    "\n",
    "**Prinsip dasar dari Machine Learning dan pengenalan interface Scikit-Learn** \n",
    "* Apa itu Machine Learning?\n",
    "* Layout data Machine Learning\n",
    "* Supervised Learning\n",
    "    - Klasifikasi\n",
    "    - Regresi\n",
    "* Unsupervised Learning\n",
    "    - Clustering\n",
    "    - Reduksi Dimensi\n",
    "* Validasi dan Evaluasi Model\n",
    "* Aplikasi Sederhana : OCR\n",
    "\n",
    "**Prediksi SPAM SMS Bahasa Indonesia**"
   ]
  },
  {
   "cell_type": "markdown",
   "metadata": {
    "slideshow": {
     "slide_type": "slide"
    }
   },
   "source": [
    "Tutorial ini membutuhkan library berikut:\n",
    "\n",
    "- Python versi 3.7+\n",
    "- `numpy` versi 1.18 atau terbaru: http://www.numpy.org/\n",
    "- `scipy` versi 1.5 atau terbaru: http://www.scipy.org/\n",
    "- `pandas` versi 1.0.5 atau terbaru: http://pandas.pydata.org/\n",
    "- `matplotlib` versi 3.2 atau terbaru: http://matplotlib.org/\n",
    "- `scikit-learn` versi 0.23 atau terbaru: http://scikit-learn.org\n",
    "- `ipython`/`jupyter` versi 7.1 atau terbaru, dengan fitur notebook: http://ipython.org\n",
    "- `seaborn`: versi 0.10 atau terbaru\n",
    "Cara paling mudah untuk instalasi semua package adalah menggunakan [conda](http://store.continuum.io/).\n",
    "Atau [miniconda](http://conda.pydata.org/miniconda.html).\n",
    "\n",
    "Sintaks instalasi semua library diatas menggunakan [conda]:\n",
    "```\n",
    "$ conda install numpy scipy matplotlib scikit-learn ipython-notebook\n",
    "```\n",
    "\n",
    "Atau download Anaconda (sangat besar) di https://store.continuum.io/."
   ]
  },
  {
   "cell_type": "markdown",
   "metadata": {
    "slideshow": {
     "slide_type": "slide"
    }
   },
   "source": [
    "### Cek instalasi anda\n",
    "\n",
    "Jalankan script dibawah ini untuk cek instalasi pada laptop anda:\n",
    "\n",
    "(pada IPython notebook, tekan `shift` dan `return` bersamaan untuk menjalankan script pada satu cell)"
   ]
  },
  {
   "cell_type": "code",
   "execution_count": null,
   "metadata": {
    "scrolled": true,
    "slideshow": {
     "slide_type": "subslide"
    }
   },
   "outputs": [],
   "source": [
    "from __future__ import print_function\n",
    "\n",
    "import IPython\n",
    "print('IPython:', IPython.__version__)\n",
    "\n",
    "import numpy\n",
    "print('numpy:', numpy.__version__)\n",
    "\n",
    "import scipy\n",
    "print('scipy:', scipy.__version__)\n",
    "\n",
    "import pandas\n",
    "print('pandas:', pandas.__version__)\n",
    "\n",
    "import matplotlib\n",
    "print('matplotlib:', matplotlib.__version__)\n",
    "\n",
    "import sklearn\n",
    "print('scikit-learn:', sklearn.__version__)\n",
    "\n",
    "import seaborn\n",
    "print('seaborn', seaborn.__version__)"
   ]
  },
  {
   "cell_type": "markdown",
   "metadata": {
    "slideshow": {
     "slide_type": "slide"
    }
   },
   "source": [
    "## Bahan Bacaan"
   ]
  },
  {
   "cell_type": "markdown",
   "metadata": {
    "slideshow": {
     "slide_type": "subslide"
    }
   },
   "source": [
    "- **scikit-learn:** http://scikit-learn.org \n",
    "- **matplotlib:** http://matplotlib.org \n",
    "- **IPython:** http://ipython.org (cek juga http://nbviewer.ipython.org)"
   ]
  }
 ],
 "metadata": {
  "kernelspec": {
   "display_name": "Python 3",
   "language": "python",
   "name": "python3"
  },
  "language_info": {
   "codemirror_mode": {
    "name": "ipython",
    "version": 3
   },
   "file_extension": ".py",
   "mimetype": "text/x-python",
   "name": "python",
   "nbconvert_exporter": "python",
   "pygments_lexer": "ipython3",
   "version": "3.8.3"
  }
 },
 "nbformat": 4,
 "nbformat_minor": 2
}
